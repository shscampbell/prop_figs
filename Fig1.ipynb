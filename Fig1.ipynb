{
 "cells": [
  {
   "cell_type": "markdown",
   "metadata": {},
   "source": [
    "<img src=\"files/cc_reward_result_0.png\">"
   ]
  },
  {
   "cell_type": "markdown",
   "metadata": {},
   "source": [
    "This figure shows the output for a credit card comparison. The user is a person who travels a lot, reporting to annually charge \\$65,000 on travel, \\$35,000 on dining, \\$5500 on gas, \\$20,000 on large purchases of \\$5000 or more, and \\$600 on Uber. In all the user reports \\$150,000 total spending. The user reportedly spends all reward points on his/her travel, and reports that foreign transaction fees can account for as much as \\$800 per year. I ran this information through the information for 6 credit cards, though the information for hundreds of rewards cards can be collected. For each card, the number of earned rewards points per year are estimated, as shown in the top charts. Then based on the reported rewards redemption practices of the user, the value of the rewards are estimated and other benefits of value offered by the card are added, as shown in the bottom charts. After accounting for fees, the net annual value of the card is reported. For this user, the Platinum Card from American Express and the Chase Sapphire Reserve card were found to be the most valuable and were overall similar even though points are earned differently through different categories of purchases."
   ]
  },
  {
   "cell_type": "code",
   "execution_count": null,
   "metadata": {},
   "outputs": [],
   "source": []
  }
 ],
 "metadata": {
  "kernelspec": {
   "display_name": "Python 3",
   "language": "python",
   "name": "python3"
  },
  "language_info": {
   "codemirror_mode": {
    "name": "ipython",
    "version": 3
   },
   "file_extension": ".py",
   "mimetype": "text/x-python",
   "name": "python",
   "nbconvert_exporter": "python",
   "pygments_lexer": "ipython3",
   "version": "3.6.4"
  }
 },
 "nbformat": 4,
 "nbformat_minor": 2
}

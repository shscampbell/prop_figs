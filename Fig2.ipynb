{
 "cells": [
  {
   "cell_type": "markdown",
   "metadata": {},
   "source": [
    "<img src=\"cc_reward_result_1.png\">"
   ]
  },
  {
   "cell_type": "markdown",
   "metadata": {},
   "source": [
    "This second figure shows the results for a different user profile. This user lives more modestly with \\$28,000 total transactions charged to the card annually. The stand-out spending category for this user is a lot of shopping through Amazon.com, with \\$6000 charged annually through the website. The user is also an Amazon Prime member. With the Chase Amazon Rewards Card, Prime member receive 5 points for every dollar spent at Amazon.com, and this has helped allows the user to accrue a lot of points with this card. The user prefers to split their rewards evenly between travel rewards and spending directly on Amazon.com. According to data from thepointsguy.com, points applied to travel through the Chase Reward Center are worth \\$0.021 on average, around twice the value of \\$0.01 of points on Amazon.com. This is why the user gets expected to get more value from the points used on travel. Of the cards I considered for this proposal, the second-most valuable card for this user was the Discover Travel card, where every dollar spent earns 1.5 points for all transactions."
   ]
  },
  {
   "cell_type": "code",
   "execution_count": null,
   "metadata": {},
   "outputs": [],
   "source": []
  }
 ],
 "metadata": {
  "kernelspec": {
   "display_name": "Python 3",
   "language": "python",
   "name": "python3"
  },
  "language_info": {
   "codemirror_mode": {
    "name": "ipython",
    "version": 3
   },
   "file_extension": ".py",
   "mimetype": "text/x-python",
   "name": "python",
   "nbconvert_exporter": "python",
   "pygments_lexer": "ipython3",
   "version": "3.6.4"
  }
 },
 "nbformat": 4,
 "nbformat_minor": 2
}
